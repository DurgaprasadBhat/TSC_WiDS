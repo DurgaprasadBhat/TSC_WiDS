{
 "cells": [
  {
   "cell_type": "code",
   "execution_count": 1,
   "id": "9ff3397c",
   "metadata": {},
   "outputs": [
    {
     "name": "stdout",
     "output_type": "stream",
     "text": [
      "(34799,)\n"
     ]
    }
   ],
   "source": [
    "import pickle\n",
    "import numpy as np\n",
    "import matplotlib.pyplot as plt\n",
    "import os\n",
    "import PIL\n",
    "import tensorflow as tf\n",
    "\n",
    "from tensorflow import keras\n",
    "from tensorflow.keras import layers\n",
    "from tensorflow.keras.models import Sequential\n",
    "\n",
    "file_test = open('test.p', 'rb')\n",
    "file_train = open('train.p', 'rb')\n",
    "file_val = open('valid.p', 'rb')\n",
    "train_data = pickle.load(file_train)\n",
    "\n",
    "#print(train_data)\n",
    "#print(train_data['features'].shape)\n",
    "#plt.imshow(train_data[\"features\"][1])\n",
    "train_data = {'Features' : train_data['features'], 'Labels' : train_data['labels']}\n",
    "test_data = pickle.load(file_test)\n",
    "test_data = {'Features' : test_data['features'], 'Labels' : test_data['labels']}\n",
    "val_data = pickle.load(file_val)\n",
    "val_data = {'Features' : val_data['features'], 'Labels' : val_data['labels']}\n",
    "print(train_data['Labels'].shape)"
   ]
  },
  {
   "cell_type": "code",
   "execution_count": 2,
   "id": "68eb9b4c",
   "metadata": {},
   "outputs": [],
   "source": [
    "batch_size = 32\n",
    "img_height = 32\n",
    "img_width = 32\n",
    "\n",
    "R, G, B = train_data['Features'][:,:,:,0],train_data['Features'][:,:,:,1],train_data['Features'][:,:,:,2]\n",
    "imgGray = 0.2989 * R + 0.5870 * G + 0.1140 * B\n",
    "train_data['Features'] = imgGray\n",
    "\n",
    "R, G, B = test_data['Features'][:,:,:,0],test_data['Features'][:,:,:,1], test_data['Features'][:,:,:,2]\n",
    "imgGray = 0.2989 * R + 0.5870 * G + 0.1140 * B\n",
    "test_data['Features'] = imgGray\n",
    "\n",
    "\n",
    "R, G, B = val_data['Features'][:,:,:,0],val_data['Features'][:,:,:,1],val_data['Features'][:,:,:,2]\n",
    "imgGray = 0.2989 * R + 0.5870 * G + 0.1140 * B\n",
    "val_data['Features'] = imgGray\n"
   ]
  },
  {
   "cell_type": "code",
   "execution_count": null,
   "id": "5645f22f",
   "metadata": {},
   "outputs": [],
   "source": [
    "model = Sequential([\n",
    "  layers.Rescaling(1./255, input_shape=(img_height, img_width, 1)),\n",
    "#   layers.RandomFlip(\"horizontal_and_vertical\"),\n",
    "#   layers.RandomRotation(0.2),\n",
    "  layers.Conv2D(6, 5, padding='valid', activation='relu'),\n",
    "  layers.MaxPooling2D(),\n",
    "  layers.Conv2D(16, 5, padding='valid', activation='relu'),\n",
    "  layers.MaxPooling2D(),\n",
    "  layers.Flatten(),\n",
    "  layers.Dense(120, activation='relu'),\n",
    "  layers.BatchNormalization(),\n",
    "  layers.Dropout(0.5),\n",
    "  layers.Dense(84, activation='relu'),\n",
    "  layers.BatchNormalization(),\n",
    "  layers.Dense(43)\n",
    "])\n",
    "\n",
    "model.compile(optimizer='adam',\n",
    "              loss=tf.keras.losses.SparseCategoricalCrossentropy(from_logits=True),\n",
    "              metrics=['accuracy'])\n",
    "model.summary()"
   ]
  },
  {
   "cell_type": "code",
   "execution_count": 15,
   "id": "7f03aa5c",
   "metadata": {},
   "outputs": [
    {
     "name": "stdout",
     "output_type": "stream",
     "text": [
      "Epoch 1/20\n",
      "544/544 [==============================] - 7s 12ms/step - loss: 1.7133 - accuracy: 0.5541 - val_loss: 0.9602 - val_accuracy: 0.8154\n",
      "Epoch 2/20\n",
      "544/544 [==============================] - 7s 12ms/step - loss: 0.5265 - accuracy: 0.8534 - val_loss: 0.3527 - val_accuracy: 0.8984\n",
      "Epoch 3/20\n",
      "544/544 [==============================] - 7s 12ms/step - loss: 0.3247 - accuracy: 0.9091 - val_loss: 0.2556 - val_accuracy: 0.9288\n",
      "Epoch 4/20\n",
      "544/544 [==============================] - 7s 12ms/step - loss: 0.2405 - accuracy: 0.9311 - val_loss: 0.2410 - val_accuracy: 0.9331\n",
      "Epoch 5/20\n",
      "544/544 [==============================] - 7s 13ms/step - loss: 0.1937 - accuracy: 0.9439 - val_loss: 0.2436 - val_accuracy: 0.9315\n",
      "Epoch 6/20\n",
      "544/544 [==============================] - 7s 13ms/step - loss: 0.1717 - accuracy: 0.9504 - val_loss: 0.2183 - val_accuracy: 0.9449\n",
      "Epoch 7/20\n",
      "544/544 [==============================] - 7s 13ms/step - loss: 0.1434 - accuracy: 0.9576 - val_loss: 0.2013 - val_accuracy: 0.9515\n",
      "Epoch 8/20\n",
      "544/544 [==============================] - 7s 13ms/step - loss: 0.1341 - accuracy: 0.9602 - val_loss: 0.2094 - val_accuracy: 0.9454\n",
      "Epoch 9/20\n",
      "544/544 [==============================] - 7s 13ms/step - loss: 0.1206 - accuracy: 0.9638 - val_loss: 0.1928 - val_accuracy: 0.9499\n",
      "Epoch 10/20\n",
      "544/544 [==============================] - 7s 13ms/step - loss: 0.1091 - accuracy: 0.9677 - val_loss: 0.1974 - val_accuracy: 0.9444\n",
      "Epoch 11/20\n",
      "544/544 [==============================] - 7s 13ms/step - loss: 0.1036 - accuracy: 0.9688 - val_loss: 0.2362 - val_accuracy: 0.9467\n",
      "Epoch 12/20\n",
      "544/544 [==============================] - 7s 13ms/step - loss: 0.0981 - accuracy: 0.9701 - val_loss: 0.2724 - val_accuracy: 0.9345\n",
      "Epoch 13/20\n",
      "544/544 [==============================] - 7s 13ms/step - loss: 0.0943 - accuracy: 0.9709 - val_loss: 0.2652 - val_accuracy: 0.9390\n",
      "Epoch 14/20\n",
      "544/544 [==============================] - 7s 13ms/step - loss: 0.0871 - accuracy: 0.9733 - val_loss: 0.2103 - val_accuracy: 0.9546\n",
      "Epoch 15/20\n",
      "544/544 [==============================] - 7s 13ms/step - loss: 0.0837 - accuracy: 0.9748 - val_loss: 0.2319 - val_accuracy: 0.9478\n",
      "Epoch 16/20\n",
      "544/544 [==============================] - 7s 13ms/step - loss: 0.0772 - accuracy: 0.9763 - val_loss: 0.2362 - val_accuracy: 0.9522\n",
      "Epoch 17/20\n",
      "544/544 [==============================] - 7s 13ms/step - loss: 0.0746 - accuracy: 0.9775 - val_loss: 0.1978 - val_accuracy: 0.9526\n",
      "Epoch 18/20\n",
      "544/544 [==============================] - 7s 13ms/step - loss: 0.0711 - accuracy: 0.9770 - val_loss: 0.2186 - val_accuracy: 0.9497\n",
      "Epoch 19/20\n",
      "544/544 [==============================] - 7s 13ms/step - loss: 0.0716 - accuracy: 0.9776 - val_loss: 0.1997 - val_accuracy: 0.9524\n",
      "Epoch 20/20\n",
      "544/544 [==============================] - 8s 14ms/step - loss: 0.0710 - accuracy: 0.9784 - val_loss: 0.2393 - val_accuracy: 0.9508\n"
     ]
    }
   ],
   "source": [
    "epochs=20\n",
    "history = model.fit(\n",
    "  x = train_data['Features'], y = train_data['Labels'] ,\n",
    "  validation_data= (val_data['Features'], val_data['Labels']),\n",
    "  batch_size = 64,\n",
    "  epochs=epochs\n",
    ")\n"
   ]
  },
  {
   "cell_type": "code",
   "execution_count": 16,
   "id": "78eac5cd",
   "metadata": {},
   "outputs": [
    {
     "data": {
      "image/png": "[encoded data removed]",
      "text/plain": [
       "<Figure size 576x576 with 2 Axes>"
      ]
     },
     "metadata": {
      "needs_background": "light"
     },
     "output_type": "display_data"
    }
   ],
   "source": [
    "acc = history.history['accuracy']\n",
    "val_acc = history.history['val_accuracy']\n",
    "\n",
    "loss = history.history['loss']\n",
    "val_loss = history.history['val_loss']\n",
    "\n",
    "epochs_range = range(epochs)\n",
    "\n",
    "plt.figure(figsize=(8, 8))\n",
    "plt.subplot(1, 2, 1)\n",
    "plt.plot(epochs_range, acc, label='Training Accuracy')\n",
    "plt.plot(epochs_range, val_acc, label='Validation Accuracy')\n",
    "plt.legend(loc='lower right')\n",
    "plt.title('Training and Validation Accuracy')\n",
    "\n",
    "plt.subplot(1, 2, 2)\n",
    "plt.plot(epochs_range, loss, label='Training Loss')\n",
    "plt.plot(epochs_range, val_loss, label='Validation Loss')\n",
    "plt.legend(loc='upper right')\n",
    "plt.title('Training and Validation Loss')\n",
    "plt.show()"
   ]
  },
  {
   "cell_type": "code",
   "execution_count": 17,
   "id": "a4f3ab68",
   "metadata": {},
   "outputs": [
    {
     "name": "stdout",
     "output_type": "stream",
     "text": [
      "395/395 [==============================] - 1s 4ms/step - loss: 0.2489 - accuracy: 0.9444\n"
     ]
    },
    {
     "data": {
      "text/plain": [
       "[0.24885165691375732, 0.9444180727005005]"
      ]
     },
     "execution_count": 17,
     "metadata": {},
     "output_type": "execute_result"
    }
   ],
   "source": [
    "model.evaluate(x= test_data[\"Features\"], y= test_data[\"Labels\"])"
   ]
  },
  {
   "cell_type": "code",
   "execution_count": null,
   "id": "4194d907",
   "metadata": {},
   "outputs": [],
   "source": [
    "img2 = test_data['Features'][529]\n",
    "img = np.expand_dims(test_data['Features'][529], 0)\n",
    "a = model.predict(img)\n",
    "print(a)\n",
    "print(test_data['Labels'][529])\n",
    "plt.imshow(img2, cmap  ='gray')"
   ]
  },
  {
   "cell_type": "code",
   "execution_count": null,
   "id": "5047b715",
   "metadata": {},
   "outputs": [],
   "source": []
  }
 ],
 "metadata": {
  "kernelspec": {
   "display_name": "Python 3 (ipykernel)",
   "language": "python",
   "name": "python3"
  },
  "language_info": {
   "codemirror_mode": {
    "name": "ipython",
    "version": 3
   },
   "file_extension": ".py",
   "mimetype": "text/x-python",
   "name": "python",
   "nbconvert_exporter": "python",
   "pygments_lexer": "ipython3",
   "version": "3.9.7"
  }
 },
 "nbformat": 4,
 "nbformat_minor": 5
}
